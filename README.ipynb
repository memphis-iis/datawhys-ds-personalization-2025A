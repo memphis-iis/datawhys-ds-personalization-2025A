{
 "cells": [
  {
   "cell_type": "markdown",
   "id": "189a203c-afc3-4569-8ab0-3c22e594539c",
   "metadata": {},
   "source": [
    "\n",
    "| ***[Descriptive stats](./Descriptive-statistics.ipynb)*** | ***\\- [iris](./datasets/NoTheme/Stats0.csv)*** |\n",
    "| :---- | :---- |\n",
    "| ***[KNN regression](./KNN-regression.ipynb)*** | ***\\- [boston](./datasets/NoTheme/KNNReg0.csv)*** |\n",
    "| ***[Regression trees](./Regression-trees.ipynb)*** | ***\\- [baseball](./datasets/NoTheme/RegTrees0.csv)*** |\n",
    "| ***[Random forests](./Random-forests.ipynb)*** | ***\\- [breastcancer](./datasets/NoTheme/Forest0.csv)*** |\n"
   ]
  },
  {
   "cell_type": "code",
   "execution_count": null,
   "id": "e534197a-2468-4529-834a-d6faf3ac67ec",
   "metadata": {},
   "outputs": [],
   "source": []
  }
 ],
 "metadata": {
  "kernelspec": {
   "display_name": "Python 3 (ipykernel)",
   "language": "python",
   "name": "python3"
  },
  "language_info": {
   "codemirror_mode": {
    "name": "ipython",
    "version": 3
   },
   "file_extension": ".py",
   "mimetype": "text/x-python",
   "name": "python",
   "nbconvert_exporter": "python",
   "pygments_lexer": "ipython3",
   "version": "3.10.6"
  }
 },
 "nbformat": 4,
 "nbformat_minor": 5
}
